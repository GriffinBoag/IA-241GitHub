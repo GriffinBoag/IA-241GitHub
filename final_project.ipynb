{
 "cells": [
  {
   "cell_type": "markdown",
   "id": "b331e8eb",
   "metadata": {},
   "source": [
    "## IA 241 final project"
   ]
  },
  {
   "cell_type": "markdown",
   "id": "55ae5ddc",
   "metadata": {},
   "source": [
    "## Intro and Covid-19 Background"
   ]
  },
  {
   "cell_type": "markdown",
   "id": "a9763fb2",
   "metadata": {},
   "source": [
    "Covid-19, or Coronovirus is a viral infection that spreads through droplets and has spread violently throughout the world. Since early 2020, Covid-19 has effected billions of people and ended millions of lives. \n",
    "This project will answer some questions about the 2020 Covid-19 data including: The 10 countries with the most covid-19 cases, the total covid-19 deaths/month in the US(the highest amount of covid-19 deaths of any country), and the covid-19 death rate per month in Brazil(the second highest amount of covid-19 deaths of any country)."
   ]
  },
  {
   "cell_type": "markdown",
   "id": "6ccee12e",
   "metadata": {},
   "source": [
    "## Data Source"
   ]
  },
  {
   "cell_type": "markdown",
   "id": "817abeee",
   "metadata": {},
   "source": [
    "The data is from [European Centre for Disease Prevention and Control](https://www.ecdc.europa.eu/en/publications-data/download-todays-data-geographic-distribution-covid-19-cases-worldwide)"
   ]
  },
  {
   "cell_type": "code",
   "execution_count": 10,
   "id": "1ccc6405",
   "metadata": {},
   "outputs": [],
   "source": [
    "%matplotlib inline\n",
    "import pandas"
   ]
  },
  {
   "cell_type": "markdown",
   "id": "0bbd7ef6",
   "metadata": {},
   "source": [
    "## A Quick View of the Data "
   ]
  },
  {
   "cell_type": "markdown",
   "id": "c2d5d68c",
   "metadata": {},
   "source": [
    "This is a look into the data collected by the European Centre for Disease Prevention and Control in efforts tobetter understand Covid-19 data"
   ]
  },
  {
   "cell_type": "code",
   "execution_count": 11,
   "id": "9daebb2f",
   "metadata": {
    "collapsed": true,
    "jupyter": {
     "outputs_hidden": true
    }
   },
   "outputs": [
    {
     "data": {
      "text/html": [
       "<div>\n",
       "<style scoped>\n",
       "    .dataframe tbody tr th:only-of-type {\n",
       "        vertical-align: middle;\n",
       "    }\n",
       "\n",
       "    .dataframe tbody tr th {\n",
       "        vertical-align: top;\n",
       "    }\n",
       "\n",
       "    .dataframe thead th {\n",
       "        text-align: right;\n",
       "    }\n",
       "</style>\n",
       "<table border=\"1\" class=\"dataframe\">\n",
       "  <thead>\n",
       "    <tr style=\"text-align: right;\">\n",
       "      <th></th>\n",
       "      <th>dateRep</th>\n",
       "      <th>day</th>\n",
       "      <th>month</th>\n",
       "      <th>year</th>\n",
       "      <th>cases</th>\n",
       "      <th>deaths</th>\n",
       "      <th>countriesAndTerritories</th>\n",
       "      <th>geoId</th>\n",
       "      <th>countryterritoryCode</th>\n",
       "      <th>popData2019</th>\n",
       "      <th>continentExp</th>\n",
       "      <th>Cumulative_number_for_14_days_of_COVID-19_cases_per_100000</th>\n",
       "    </tr>\n",
       "  </thead>\n",
       "  <tbody>\n",
       "    <tr>\n",
       "      <th>0</th>\n",
       "      <td>2020-12-14</td>\n",
       "      <td>14</td>\n",
       "      <td>12</td>\n",
       "      <td>2020</td>\n",
       "      <td>746</td>\n",
       "      <td>6</td>\n",
       "      <td>Afghanistan</td>\n",
       "      <td>AF</td>\n",
       "      <td>AFG</td>\n",
       "      <td>38041757.0</td>\n",
       "      <td>Asia</td>\n",
       "      <td>9.013779</td>\n",
       "    </tr>\n",
       "    <tr>\n",
       "      <th>1</th>\n",
       "      <td>2020-12-13</td>\n",
       "      <td>13</td>\n",
       "      <td>12</td>\n",
       "      <td>2020</td>\n",
       "      <td>298</td>\n",
       "      <td>9</td>\n",
       "      <td>Afghanistan</td>\n",
       "      <td>AF</td>\n",
       "      <td>AFG</td>\n",
       "      <td>38041757.0</td>\n",
       "      <td>Asia</td>\n",
       "      <td>7.052776</td>\n",
       "    </tr>\n",
       "    <tr>\n",
       "      <th>2</th>\n",
       "      <td>2020-12-12</td>\n",
       "      <td>12</td>\n",
       "      <td>12</td>\n",
       "      <td>2020</td>\n",
       "      <td>113</td>\n",
       "      <td>11</td>\n",
       "      <td>Afghanistan</td>\n",
       "      <td>AF</td>\n",
       "      <td>AFG</td>\n",
       "      <td>38041757.0</td>\n",
       "      <td>Asia</td>\n",
       "      <td>6.868768</td>\n",
       "    </tr>\n",
       "    <tr>\n",
       "      <th>3</th>\n",
       "      <td>2020-12-11</td>\n",
       "      <td>11</td>\n",
       "      <td>12</td>\n",
       "      <td>2020</td>\n",
       "      <td>63</td>\n",
       "      <td>10</td>\n",
       "      <td>Afghanistan</td>\n",
       "      <td>AF</td>\n",
       "      <td>AFG</td>\n",
       "      <td>38041757.0</td>\n",
       "      <td>Asia</td>\n",
       "      <td>7.134266</td>\n",
       "    </tr>\n",
       "    <tr>\n",
       "      <th>4</th>\n",
       "      <td>2020-12-10</td>\n",
       "      <td>10</td>\n",
       "      <td>12</td>\n",
       "      <td>2020</td>\n",
       "      <td>202</td>\n",
       "      <td>16</td>\n",
       "      <td>Afghanistan</td>\n",
       "      <td>AF</td>\n",
       "      <td>AFG</td>\n",
       "      <td>38041757.0</td>\n",
       "      <td>Asia</td>\n",
       "      <td>6.968658</td>\n",
       "    </tr>\n",
       "    <tr>\n",
       "      <th>5</th>\n",
       "      <td>2020-12-09</td>\n",
       "      <td>9</td>\n",
       "      <td>12</td>\n",
       "      <td>2020</td>\n",
       "      <td>135</td>\n",
       "      <td>13</td>\n",
       "      <td>Afghanistan</td>\n",
       "      <td>AF</td>\n",
       "      <td>AFG</td>\n",
       "      <td>38041757.0</td>\n",
       "      <td>Asia</td>\n",
       "      <td>6.963401</td>\n",
       "    </tr>\n",
       "    <tr>\n",
       "      <th>6</th>\n",
       "      <td>2020-12-08</td>\n",
       "      <td>8</td>\n",
       "      <td>12</td>\n",
       "      <td>2020</td>\n",
       "      <td>200</td>\n",
       "      <td>6</td>\n",
       "      <td>Afghanistan</td>\n",
       "      <td>AF</td>\n",
       "      <td>AFG</td>\n",
       "      <td>38041757.0</td>\n",
       "      <td>Asia</td>\n",
       "      <td>7.094835</td>\n",
       "    </tr>\n",
       "    <tr>\n",
       "      <th>7</th>\n",
       "      <td>2020-12-07</td>\n",
       "      <td>7</td>\n",
       "      <td>12</td>\n",
       "      <td>2020</td>\n",
       "      <td>210</td>\n",
       "      <td>26</td>\n",
       "      <td>Afghanistan</td>\n",
       "      <td>AF</td>\n",
       "      <td>AFG</td>\n",
       "      <td>38041757.0</td>\n",
       "      <td>Asia</td>\n",
       "      <td>7.215755</td>\n",
       "    </tr>\n",
       "    <tr>\n",
       "      <th>8</th>\n",
       "      <td>2020-12-06</td>\n",
       "      <td>6</td>\n",
       "      <td>12</td>\n",
       "      <td>2020</td>\n",
       "      <td>234</td>\n",
       "      <td>10</td>\n",
       "      <td>Afghanistan</td>\n",
       "      <td>AF</td>\n",
       "      <td>AFG</td>\n",
       "      <td>38041757.0</td>\n",
       "      <td>Asia</td>\n",
       "      <td>7.326160</td>\n",
       "    </tr>\n",
       "    <tr>\n",
       "      <th>9</th>\n",
       "      <td>2020-12-05</td>\n",
       "      <td>5</td>\n",
       "      <td>12</td>\n",
       "      <td>2020</td>\n",
       "      <td>235</td>\n",
       "      <td>18</td>\n",
       "      <td>Afghanistan</td>\n",
       "      <td>AF</td>\n",
       "      <td>AFG</td>\n",
       "      <td>38041757.0</td>\n",
       "      <td>Asia</td>\n",
       "      <td>7.115865</td>\n",
       "    </tr>\n",
       "  </tbody>\n",
       "</table>\n",
       "</div>"
      ],
      "text/plain": [
       "     dateRep  day  month  year  cases  deaths countriesAndTerritories geoId  \\\n",
       "0 2020-12-14   14     12  2020    746       6             Afghanistan    AF   \n",
       "1 2020-12-13   13     12  2020    298       9             Afghanistan    AF   \n",
       "2 2020-12-12   12     12  2020    113      11             Afghanistan    AF   \n",
       "3 2020-12-11   11     12  2020     63      10             Afghanistan    AF   \n",
       "4 2020-12-10   10     12  2020    202      16             Afghanistan    AF   \n",
       "5 2020-12-09    9     12  2020    135      13             Afghanistan    AF   \n",
       "6 2020-12-08    8     12  2020    200       6             Afghanistan    AF   \n",
       "7 2020-12-07    7     12  2020    210      26             Afghanistan    AF   \n",
       "8 2020-12-06    6     12  2020    234      10             Afghanistan    AF   \n",
       "9 2020-12-05    5     12  2020    235      18             Afghanistan    AF   \n",
       "\n",
       "  countryterritoryCode  popData2019 continentExp  \\\n",
       "0                  AFG   38041757.0         Asia   \n",
       "1                  AFG   38041757.0         Asia   \n",
       "2                  AFG   38041757.0         Asia   \n",
       "3                  AFG   38041757.0         Asia   \n",
       "4                  AFG   38041757.0         Asia   \n",
       "5                  AFG   38041757.0         Asia   \n",
       "6                  AFG   38041757.0         Asia   \n",
       "7                  AFG   38041757.0         Asia   \n",
       "8                  AFG   38041757.0         Asia   \n",
       "9                  AFG   38041757.0         Asia   \n",
       "\n",
       "   Cumulative_number_for_14_days_of_COVID-19_cases_per_100000  \n",
       "0                                           9.013779           \n",
       "1                                           7.052776           \n",
       "2                                           6.868768           \n",
       "3                                           7.134266           \n",
       "4                                           6.968658           \n",
       "5                                           6.963401           \n",
       "6                                           7.094835           \n",
       "7                                           7.215755           \n",
       "8                                           7.326160           \n",
       "9                                           7.115865           "
      ]
     },
     "execution_count": 11,
     "metadata": {},
     "output_type": "execute_result"
    }
   ],
   "source": [
    "df = pandas.read_excel('s3://ia241boag/COVID-19-geographic-disbtribution-worldwide-2020-12-14.xlsx',engine='openpyxl')\n",
    "df[:10]"
   ]
  },
  {
   "cell_type": "markdown",
   "id": "77265cd2",
   "metadata": {},
   "source": [
    "## 10 Countries with the Most Covid-19 Cases (Represented in 10 millions)"
   ]
  },
  {
   "cell_type": "markdown",
   "id": "6cd4c573",
   "metadata": {},
   "source": [
    "Almost every country has been effected by covid-19 in 2020. Here are the top 10 countries with the most covid-19 cases. This graph's y-axis is scaled at 1:10million because of the extreme amount of cases seen in these countries. "
   ]
  },
  {
   "cell_type": "code",
   "execution_count": 74,
   "id": "0584c4a7",
   "metadata": {},
   "outputs": [],
   "source": [
    "sum_casess_per_country=df.groupby('countriesAndTerritories').sum()['cases']"
   ]
  },
  {
   "cell_type": "code",
   "execution_count": 81,
   "id": "ef7a4bc1",
   "metadata": {},
   "outputs": [
    {
     "data": {
      "text/plain": [
       "<AxesSubplot:xlabel='countriesAndTerritories'>"
      ]
     },
     "execution_count": 81,
     "metadata": {},
     "output_type": "execute_result"
    },
    {
     "data": {
      "image/png": "[encoded data removed]",
      "text/plain": [
       "<Figure size 432x288 with 1 Axes>"
      ]
     },
     "metadata": {
      "needs_background": "light"
     },
     "output_type": "display_data"
    }
   ],
   "source": [
    "sum_cases_per_country.nlargest(10).plot.bar()"
   ]
  },
  {
   "cell_type": "markdown",
   "id": "784a1f2d",
   "metadata": {},
   "source": [
    "This data reveals the extremely high numbers of covid-19 cases with the US having a little over 16 million and the country with the 10th most amount of covid cases (Columbia) still with a massive case number at around 1.5 million."
   ]
  },
  {
   "cell_type": "markdown",
   "id": "de79b34d",
   "metadata": {},
   "source": [
    "## US Covid-19 Data"
   ]
  },
  {
   "cell_type": "code",
   "execution_count": 14,
   "id": "2b54170e",
   "metadata": {
    "collapsed": true,
    "jupyter": {
     "outputs_hidden": true
    }
   },
   "outputs": [
    {
     "data": {
      "text/html": [
       "<div>\n",
       "<style scoped>\n",
       "    .dataframe tbody tr th:only-of-type {\n",
       "        vertical-align: middle;\n",
       "    }\n",
       "\n",
       "    .dataframe tbody tr th {\n",
       "        vertical-align: top;\n",
       "    }\n",
       "\n",
       "    .dataframe thead th {\n",
       "        text-align: right;\n",
       "    }\n",
       "</style>\n",
       "<table border=\"1\" class=\"dataframe\">\n",
       "  <thead>\n",
       "    <tr style=\"text-align: right;\">\n",
       "      <th></th>\n",
       "      <th>dateRep</th>\n",
       "      <th>day</th>\n",
       "      <th>month</th>\n",
       "      <th>year</th>\n",
       "      <th>cases</th>\n",
       "      <th>deaths</th>\n",
       "      <th>countriesAndTerritories</th>\n",
       "      <th>geoId</th>\n",
       "      <th>countryterritoryCode</th>\n",
       "      <th>popData2019</th>\n",
       "      <th>continentExp</th>\n",
       "      <th>Cumulative_number_for_14_days_of_COVID-19_cases_per_100000</th>\n",
       "    </tr>\n",
       "  </thead>\n",
       "  <tbody>\n",
       "    <tr>\n",
       "      <th>59001</th>\n",
       "      <td>2020-12-14</td>\n",
       "      <td>14</td>\n",
       "      <td>12</td>\n",
       "      <td>2020</td>\n",
       "      <td>189723</td>\n",
       "      <td>1340</td>\n",
       "      <td>United_States_of_America</td>\n",
       "      <td>US</td>\n",
       "      <td>USA</td>\n",
       "      <td>329064917.0</td>\n",
       "      <td>America</td>\n",
       "      <td>873.211592</td>\n",
       "    </tr>\n",
       "    <tr>\n",
       "      <th>59002</th>\n",
       "      <td>2020-12-13</td>\n",
       "      <td>13</td>\n",
       "      <td>12</td>\n",
       "      <td>2020</td>\n",
       "      <td>216017</td>\n",
       "      <td>2315</td>\n",
       "      <td>United_States_of_America</td>\n",
       "      <td>US</td>\n",
       "      <td>USA</td>\n",
       "      <td>329064917.0</td>\n",
       "      <td>America</td>\n",
       "      <td>857.089241</td>\n",
       "    </tr>\n",
       "    <tr>\n",
       "      <th>59003</th>\n",
       "      <td>2020-12-12</td>\n",
       "      <td>12</td>\n",
       "      <td>12</td>\n",
       "      <td>2020</td>\n",
       "      <td>234633</td>\n",
       "      <td>3343</td>\n",
       "      <td>United_States_of_America</td>\n",
       "      <td>US</td>\n",
       "      <td>USA</td>\n",
       "      <td>329064917.0</td>\n",
       "      <td>America</td>\n",
       "      <td>838.514183</td>\n",
       "    </tr>\n",
       "    <tr>\n",
       "      <th>59004</th>\n",
       "      <td>2020-12-11</td>\n",
       "      <td>11</td>\n",
       "      <td>12</td>\n",
       "      <td>2020</td>\n",
       "      <td>224680</td>\n",
       "      <td>2748</td>\n",
       "      <td>United_States_of_America</td>\n",
       "      <td>US</td>\n",
       "      <td>USA</td>\n",
       "      <td>329064917.0</td>\n",
       "      <td>America</td>\n",
       "      <td>830.394205</td>\n",
       "    </tr>\n",
       "    <tr>\n",
       "      <th>59005</th>\n",
       "      <td>2020-12-10</td>\n",
       "      <td>10</td>\n",
       "      <td>12</td>\n",
       "      <td>2020</td>\n",
       "      <td>220025</td>\n",
       "      <td>3124</td>\n",
       "      <td>United_States_of_America</td>\n",
       "      <td>US</td>\n",
       "      <td>USA</td>\n",
       "      <td>329064917.0</td>\n",
       "      <td>America</td>\n",
       "      <td>794.356027</td>\n",
       "    </tr>\n",
       "    <tr>\n",
       "      <th>59006</th>\n",
       "      <td>2020-12-09</td>\n",
       "      <td>9</td>\n",
       "      <td>12</td>\n",
       "      <td>2020</td>\n",
       "      <td>217344</td>\n",
       "      <td>2564</td>\n",
       "      <td>United_States_of_America</td>\n",
       "      <td>US</td>\n",
       "      <td>USA</td>\n",
       "      <td>329064917.0</td>\n",
       "      <td>America</td>\n",
       "      <td>784.195114</td>\n",
       "    </tr>\n",
       "    <tr>\n",
       "      <th>59007</th>\n",
       "      <td>2020-12-08</td>\n",
       "      <td>8</td>\n",
       "      <td>12</td>\n",
       "      <td>2020</td>\n",
       "      <td>197334</td>\n",
       "      <td>1433</td>\n",
       "      <td>United_States_of_America</td>\n",
       "      <td>US</td>\n",
       "      <td>USA</td>\n",
       "      <td>329064917.0</td>\n",
       "      <td>America</td>\n",
       "      <td>769.896719</td>\n",
       "    </tr>\n",
       "    <tr>\n",
       "      <th>59008</th>\n",
       "      <td>2020-12-07</td>\n",
       "      <td>7</td>\n",
       "      <td>12</td>\n",
       "      <td>2020</td>\n",
       "      <td>173432</td>\n",
       "      <td>1111</td>\n",
       "      <td>United_States_of_America</td>\n",
       "      <td>US</td>\n",
       "      <td>USA</td>\n",
       "      <td>329064917.0</td>\n",
       "      <td>America</td>\n",
       "      <td>762.794473</td>\n",
       "    </tr>\n",
       "    <tr>\n",
       "      <th>59009</th>\n",
       "      <td>2020-12-06</td>\n",
       "      <td>6</td>\n",
       "      <td>12</td>\n",
       "      <td>2020</td>\n",
       "      <td>211933</td>\n",
       "      <td>2203</td>\n",
       "      <td>United_States_of_America</td>\n",
       "      <td>US</td>\n",
       "      <td>USA</td>\n",
       "      <td>329064917.0</td>\n",
       "      <td>America</td>\n",
       "      <td>757.944062</td>\n",
       "    </tr>\n",
       "    <tr>\n",
       "      <th>59010</th>\n",
       "      <td>2020-12-05</td>\n",
       "      <td>5</td>\n",
       "      <td>12</td>\n",
       "      <td>2020</td>\n",
       "      <td>231930</td>\n",
       "      <td>2680</td>\n",
       "      <td>United_States_of_America</td>\n",
       "      <td>US</td>\n",
       "      <td>USA</td>\n",
       "      <td>329064917.0</td>\n",
       "      <td>America</td>\n",
       "      <td>746.870564</td>\n",
       "    </tr>\n",
       "  </tbody>\n",
       "</table>\n",
       "</div>"
      ],
      "text/plain": [
       "         dateRep  day  month  year   cases  deaths   countriesAndTerritories  \\\n",
       "59001 2020-12-14   14     12  2020  189723    1340  United_States_of_America   \n",
       "59002 2020-12-13   13     12  2020  216017    2315  United_States_of_America   \n",
       "59003 2020-12-12   12     12  2020  234633    3343  United_States_of_America   \n",
       "59004 2020-12-11   11     12  2020  224680    2748  United_States_of_America   \n",
       "59005 2020-12-10   10     12  2020  220025    3124  United_States_of_America   \n",
       "59006 2020-12-09    9     12  2020  217344    2564  United_States_of_America   \n",
       "59007 2020-12-08    8     12  2020  197334    1433  United_States_of_America   \n",
       "59008 2020-12-07    7     12  2020  173432    1111  United_States_of_America   \n",
       "59009 2020-12-06    6     12  2020  211933    2203  United_States_of_America   \n",
       "59010 2020-12-05    5     12  2020  231930    2680  United_States_of_America   \n",
       "\n",
       "      geoId countryterritoryCode  popData2019 continentExp  \\\n",
       "59001    US                  USA  329064917.0      America   \n",
       "59002    US                  USA  329064917.0      America   \n",
       "59003    US                  USA  329064917.0      America   \n",
       "59004    US                  USA  329064917.0      America   \n",
       "59005    US                  USA  329064917.0      America   \n",
       "59006    US                  USA  329064917.0      America   \n",
       "59007    US                  USA  329064917.0      America   \n",
       "59008    US                  USA  329064917.0      America   \n",
       "59009    US                  USA  329064917.0      America   \n",
       "59010    US                  USA  329064917.0      America   \n",
       "\n",
       "       Cumulative_number_for_14_days_of_COVID-19_cases_per_100000  \n",
       "59001                                         873.211592           \n",
       "59002                                         857.089241           \n",
       "59003                                         838.514183           \n",
       "59004                                         830.394205           \n",
       "59005                                         794.356027           \n",
       "59006                                         784.195114           \n",
       "59007                                         769.896719           \n",
       "59008                                         762.794473           \n",
       "59009                                         757.944062           \n",
       "59010                                         746.870564           "
      ]
     },
     "execution_count": 14,
     "metadata": {},
     "output_type": "execute_result"
    }
   ],
   "source": [
    "US_data = df.loc[ df['countriesAndTerritories']=='United_States_of_America' ]\n",
    "US_data[:10]"
   ]
  },
  {
   "cell_type": "markdown",
   "id": "3470a0ff",
   "metadata": {},
   "source": [
    "## Total Deaths/Month in US in 2020"
   ]
  },
  {
   "cell_type": "markdown",
   "id": "4947daf9",
   "metadata": {},
   "source": [
    "The United States had both the largest amount of covid cases as well as the largest amount of covid deaths in 2020. This graph gives insight to the amount of deaths the US had each month of 2020."
   ]
  },
  {
   "cell_type": "code",
   "execution_count": 15,
   "id": "c4daeb44",
   "metadata": {},
   "outputs": [],
   "source": [
    "sum_deaths_per_month=US_data.groupby('month').sum()['deaths']"
   ]
  },
  {
   "cell_type": "code",
   "execution_count": 17,
   "id": "3d2288b1",
   "metadata": {},
   "outputs": [
    {
     "data": {
      "text/plain": [
       "<AxesSubplot:xlabel='month'>"
      ]
     },
     "execution_count": 17,
     "metadata": {},
     "output_type": "execute_result"
    },
    {
     "data": {
      "image/png": "[encoded data removed]",
      "text/plain": [
       "<Figure size 432x288 with 1 Axes>"
      ]
     },
     "metadata": {
      "needs_background": "light"
     },
     "output_type": "display_data"
    }
   ],
   "source": [
    "sum_deaths_per_month.plot()"
   ]
  },
  {
   "cell_type": "markdown",
   "id": "1e577ca1",
   "metadata": {},
   "source": [
    "This graph indicates a massive spike in covid deaths from march to april and then a steep decline from april to june with cases slowly rising and falling until they spike again in october. "
   ]
  },
  {
   "cell_type": "markdown",
   "id": "2760f63d",
   "metadata": {},
   "source": [
    "## Brazil 2020 Covid Cases"
   ]
  },
  {
   "cell_type": "code",
   "execution_count": 53,
   "id": "3d3f58dc",
   "metadata": {
    "collapsed": true,
    "jupyter": {
     "outputs_hidden": true
    }
   },
   "outputs": [
    {
     "data": {
      "text/html": [
       "<div>\n",
       "<style scoped>\n",
       "    .dataframe tbody tr th:only-of-type {\n",
       "        vertical-align: middle;\n",
       "    }\n",
       "\n",
       "    .dataframe tbody tr th {\n",
       "        vertical-align: top;\n",
       "    }\n",
       "\n",
       "    .dataframe thead th {\n",
       "        text-align: right;\n",
       "    }\n",
       "</style>\n",
       "<table border=\"1\" class=\"dataframe\">\n",
       "  <thead>\n",
       "    <tr style=\"text-align: right;\">\n",
       "      <th></th>\n",
       "      <th>dateRep</th>\n",
       "      <th>day</th>\n",
       "      <th>month</th>\n",
       "      <th>year</th>\n",
       "      <th>cases</th>\n",
       "      <th>deaths</th>\n",
       "      <th>countriesAndTerritories</th>\n",
       "      <th>geoId</th>\n",
       "      <th>countryterritoryCode</th>\n",
       "      <th>popData2019</th>\n",
       "      <th>continentExp</th>\n",
       "      <th>Cumulative_number_for_14_days_of_COVID-19_cases_per_100000</th>\n",
       "    </tr>\n",
       "  </thead>\n",
       "  <tbody>\n",
       "    <tr>\n",
       "      <th>7991</th>\n",
       "      <td>2020-12-14</td>\n",
       "      <td>14</td>\n",
       "      <td>12</td>\n",
       "      <td>2020</td>\n",
       "      <td>21825</td>\n",
       "      <td>279</td>\n",
       "      <td>Brazil</td>\n",
       "      <td>BR</td>\n",
       "      <td>BRA</td>\n",
       "      <td>211049519.0</td>\n",
       "      <td>America</td>\n",
       "      <td>278.234228</td>\n",
       "    </tr>\n",
       "    <tr>\n",
       "      <th>7992</th>\n",
       "      <td>2020-12-13</td>\n",
       "      <td>13</td>\n",
       "      <td>12</td>\n",
       "      <td>2020</td>\n",
       "      <td>43900</td>\n",
       "      <td>686</td>\n",
       "      <td>Brazil</td>\n",
       "      <td>BR</td>\n",
       "      <td>BRA</td>\n",
       "      <td>211049519.0</td>\n",
       "      <td>America</td>\n",
       "      <td>279.486541</td>\n",
       "    </tr>\n",
       "    <tr>\n",
       "      <th>7993</th>\n",
       "      <td>2020-12-12</td>\n",
       "      <td>12</td>\n",
       "      <td>12</td>\n",
       "      <td>2020</td>\n",
       "      <td>54428</td>\n",
       "      <td>672</td>\n",
       "      <td>Brazil</td>\n",
       "      <td>BR</td>\n",
       "      <td>BRA</td>\n",
       "      <td>211049519.0</td>\n",
       "      <td>America</td>\n",
       "      <td>283.287544</td>\n",
       "    </tr>\n",
       "    <tr>\n",
       "      <th>7994</th>\n",
       "      <td>2020-12-11</td>\n",
       "      <td>11</td>\n",
       "      <td>12</td>\n",
       "      <td>2020</td>\n",
       "      <td>53347</td>\n",
       "      <td>770</td>\n",
       "      <td>Brazil</td>\n",
       "      <td>BR</td>\n",
       "      <td>BRA</td>\n",
       "      <td>211049519.0</td>\n",
       "      <td>America</td>\n",
       "      <td>273.669896</td>\n",
       "    </tr>\n",
       "    <tr>\n",
       "      <th>7995</th>\n",
       "      <td>2020-12-10</td>\n",
       "      <td>10</td>\n",
       "      <td>12</td>\n",
       "      <td>2020</td>\n",
       "      <td>53453</td>\n",
       "      <td>836</td>\n",
       "      <td>Brazil</td>\n",
       "      <td>BR</td>\n",
       "      <td>BRA</td>\n",
       "      <td>211049519.0</td>\n",
       "      <td>America</td>\n",
       "      <td>266.215248</td>\n",
       "    </tr>\n",
       "    <tr>\n",
       "      <th>7996</th>\n",
       "      <td>2020-12-09</td>\n",
       "      <td>9</td>\n",
       "      <td>12</td>\n",
       "      <td>2020</td>\n",
       "      <td>51088</td>\n",
       "      <td>842</td>\n",
       "      <td>Brazil</td>\n",
       "      <td>BR</td>\n",
       "      <td>BRA</td>\n",
       "      <td>211049519.0</td>\n",
       "      <td>America</td>\n",
       "      <td>263.583164</td>\n",
       "    </tr>\n",
       "    <tr>\n",
       "      <th>7997</th>\n",
       "      <td>2020-12-08</td>\n",
       "      <td>8</td>\n",
       "      <td>12</td>\n",
       "      <td>2020</td>\n",
       "      <td>20371</td>\n",
       "      <td>376</td>\n",
       "      <td>Brazil</td>\n",
       "      <td>BR</td>\n",
       "      <td>BRA</td>\n",
       "      <td>211049519.0</td>\n",
       "      <td>America</td>\n",
       "      <td>254.112401</td>\n",
       "    </tr>\n",
       "    <tr>\n",
       "      <th>7998</th>\n",
       "      <td>2020-12-07</td>\n",
       "      <td>7</td>\n",
       "      <td>12</td>\n",
       "      <td>2020</td>\n",
       "      <td>26363</td>\n",
       "      <td>313</td>\n",
       "      <td>Brazil</td>\n",
       "      <td>BR</td>\n",
       "      <td>BRA</td>\n",
       "      <td>211049519.0</td>\n",
       "      <td>America</td>\n",
       "      <td>252.139404</td>\n",
       "    </tr>\n",
       "    <tr>\n",
       "      <th>7999</th>\n",
       "      <td>2020-12-06</td>\n",
       "      <td>6</td>\n",
       "      <td>12</td>\n",
       "      <td>2020</td>\n",
       "      <td>43209</td>\n",
       "      <td>664</td>\n",
       "      <td>Brazil</td>\n",
       "      <td>BR</td>\n",
       "      <td>BRA</td>\n",
       "      <td>211049519.0</td>\n",
       "      <td>America</td>\n",
       "      <td>248.468228</td>\n",
       "    </tr>\n",
       "    <tr>\n",
       "      <th>8000</th>\n",
       "      <td>2020-12-05</td>\n",
       "      <td>5</td>\n",
       "      <td>12</td>\n",
       "      <td>2020</td>\n",
       "      <td>46884</td>\n",
       "      <td>694</td>\n",
       "      <td>Brazil</td>\n",
       "      <td>BR</td>\n",
       "      <td>BRA</td>\n",
       "      <td>211049519.0</td>\n",
       "      <td>America</td>\n",
       "      <td>243.451870</td>\n",
       "    </tr>\n",
       "  </tbody>\n",
       "</table>\n",
       "</div>"
      ],
      "text/plain": [
       "        dateRep  day  month  year  cases  deaths countriesAndTerritories  \\\n",
       "7991 2020-12-14   14     12  2020  21825     279                  Brazil   \n",
       "7992 2020-12-13   13     12  2020  43900     686                  Brazil   \n",
       "7993 2020-12-12   12     12  2020  54428     672                  Brazil   \n",
       "7994 2020-12-11   11     12  2020  53347     770                  Brazil   \n",
       "7995 2020-12-10   10     12  2020  53453     836                  Brazil   \n",
       "7996 2020-12-09    9     12  2020  51088     842                  Brazil   \n",
       "7997 2020-12-08    8     12  2020  20371     376                  Brazil   \n",
       "7998 2020-12-07    7     12  2020  26363     313                  Brazil   \n",
       "7999 2020-12-06    6     12  2020  43209     664                  Brazil   \n",
       "8000 2020-12-05    5     12  2020  46884     694                  Brazil   \n",
       "\n",
       "     geoId countryterritoryCode  popData2019 continentExp  \\\n",
       "7991    BR                  BRA  211049519.0      America   \n",
       "7992    BR                  BRA  211049519.0      America   \n",
       "7993    BR                  BRA  211049519.0      America   \n",
       "7994    BR                  BRA  211049519.0      America   \n",
       "7995    BR                  BRA  211049519.0      America   \n",
       "7996    BR                  BRA  211049519.0      America   \n",
       "7997    BR                  BRA  211049519.0      America   \n",
       "7998    BR                  BRA  211049519.0      America   \n",
       "7999    BR                  BRA  211049519.0      America   \n",
       "8000    BR                  BRA  211049519.0      America   \n",
       "\n",
       "      Cumulative_number_for_14_days_of_COVID-19_cases_per_100000  \n",
       "7991                                         278.234228           \n",
       "7992                                         279.486541           \n",
       "7993                                         283.287544           \n",
       "7994                                         273.669896           \n",
       "7995                                         266.215248           \n",
       "7996                                         263.583164           \n",
       "7997                                         254.112401           \n",
       "7998                                         252.139404           \n",
       "7999                                         248.468228           \n",
       "8000                                         243.451870           "
      ]
     },
     "execution_count": 53,
     "metadata": {},
     "output_type": "execute_result"
    }
   ],
   "source": [
    "Brazil_data= df.loc[df['countriesAndTerritories']=='Brazil']\n",
    "Brazil_data[:10]"
   ]
  },
  {
   "cell_type": "markdown",
   "id": "3a4bd926",
   "metadata": {},
   "source": [
    "## Covid Death Rate in Brazil"
   ]
  },
  {
   "cell_type": "markdown",
   "id": "8c5b0973",
   "metadata": {},
   "source": [
    "Brazil had the second largest number of covid-19 deaths in 2020 as well as the 3rd largest number of cases. This graph shows the amount of cases compared to the number of deaths (death rate) from brazil each month of 2020. "
   ]
  },
  {
   "cell_type": "code",
   "execution_count": 83,
   "id": "03599b46",
   "metadata": {},
   "outputs": [
    {
     "data": {
      "text/plain": [
       "<AxesSubplot:xlabel='month', ylabel='cases'>"
      ]
     },
     "execution_count": 83,
     "metadata": {},
     "output_type": "execute_result"
    },
    {
     "data": {
      "image/png": "[encoded data removed]",
      "text/plain": [
       "<Figure size 432x288 with 2 Axes>"
      ]
     },
     "metadata": {
      "needs_background": "light"
     },
     "output_type": "display_data"
    }
   ],
   "source": [
    "sum_cases_by_month= Brazil_data.groupby('cases').sum()['deaths']\n",
    "Brazil_data.plot.scatter(x='month',y='cases',c='deaths') "
   ]
  },
  {
   "cell_type": "markdown",
   "id": "6aaede2d",
   "metadata": {},
   "source": [
    "Brazil is shown to have a very low amount of cases until april where it spikes in both cases and deaths until july meaning the death rate spiked as well. Then, there is a slow decrease in both deaths and number of cases until november. However, in november through december when the cases rise the number of deaths does not, meaning the death rate lowered."
   ]
  },
  {
   "cell_type": "markdown",
   "id": "9c3b4956",
   "metadata": {},
   "source": [
    "## Conclusions, Limitations, and Further Research"
   ]
  },
  {
   "cell_type": "markdown",
   "id": "edecd436",
   "metadata": {},
   "source": [
    "In conclusion, this data gathered helps us to understand the breakdown of aspects of the covid-19 pandemic. This allows us to study totl deaths, cases, mortality rate, etc. by countries, continents, and much more and will likely remain important data when planning into th future with covid-19 still lingering. \n",
    "\n",
    "Limitations to this research was that it only took data from countries as a whole so we do not get to see certain aspects such as demographics of those effected, states and cities covid rates, average age of death and contraction, etc. \n",
    "\n",
    "Further research would be helpful to allow these unknown factors to be revealed as well as to understand how to better prepare for an event like this in the future. "
   ]
  },
  {
   "cell_type": "code",
   "execution_count": null,
   "id": "0ce30b21",
   "metadata": {},
   "outputs": [],
   "source": []
  }
 ],
 "metadata": {
  "kernelspec": {
   "display_name": "conda_python3",
   "language": "python",
   "name": "conda_python3"
  },
  "language_info": {
   "codemirror_mode": {
    "name": "ipython",
    "version": 3
   },
   "file_extension": ".py",
   "mimetype": "text/x-python",
   "name": "python",
   "nbconvert_exporter": "python",
   "pygments_lexer": "ipython3",
   "version": "3.6.13"
  }
 },
 "nbformat": 4,
 "nbformat_minor": 5
}
