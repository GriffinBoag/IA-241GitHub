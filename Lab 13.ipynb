{
 "cells": [
  {
   "cell_type": "markdown",
   "id": "8ad3e3eb",
   "metadata": {},
   "source": [
    "Visualize Covid19 Data in Python"
   ]
  },
  {
   "cell_type": "markdown",
   "id": "a58465ea",
   "metadata": {},
   "source": [
    "data source"
   ]
  },
  {
   "cell_type": "markdown",
   "id": "4b00f66f",
   "metadata": {},
   "source": [
    "The data is from [European Centre for Disease Prevention and Control](https://www.ecdc.europa.eu/en/publications-data/download-todays-data-geographic-distribution-covid-19-cases-worldwide)"
   ]
  },
  {
   "cell_type": "markdown",
   "id": "18be6720",
   "metadata": {},
   "source": [
    "![covid image](https://www.google.com/imgres?imgurl=https%3A%2F%2Fwww.jmu.edu%2F_images%2Fnews%2F2020%2FCovid-19Dashboard-06.png&imgrefurl=https%3A%2F%2Fwww.jmu.edu%2Fnews%2F2020%2F08%2F25-covid-dashboard.shtml&tbnid=Di-OP92FyLKUJM&vet=12ahUKEwiNgrCs0r_3AhWICJ0JHbc9AKgQMygBegQIARAg..i&docid=0W8nLomp-cuHIM&w=1000&h=600&q=jmu%20covid%20dashboard&ved=2ahUKEwiNgrCs0r_3AhWICJ0JHbc9AKgQMygBegQIARAg)"
   ]
  },
  {
   "cell_type": "code",
   "execution_count": 4,
   "id": "eefe6231",
   "metadata": {},
   "outputs": [],
   "source": [
    "%matplotlib inline\n",
    "import pandas"
   ]
  },
  {
   "cell_type": "markdown",
   "id": "459ca9d5",
   "metadata": {},
   "source": [
    "A Quick View of the Data"
   ]
  },
  {
   "cell_type": "code",
   "execution_count": 10,
   "id": "207aabd7",
   "metadata": {
    "collapsed": true,
    "jupyter": {
     "outputs_hidden": true
    }
   },
   "outputs": [
    {
     "data": {
      "text/html": [
       "<div>\n",
       "<style scoped>\n",
       "    .dataframe tbody tr th:only-of-type {\n",
       "        vertical-align: middle;\n",
       "    }\n",
       "\n",
       "    .dataframe tbody tr th {\n",
       "        vertical-align: top;\n",
       "    }\n",
       "\n",
       "    .dataframe thead th {\n",
       "        text-align: right;\n",
       "    }\n",
       "</style>\n",
       "<table border=\"1\" class=\"dataframe\">\n",
       "  <thead>\n",
       "    <tr style=\"text-align: right;\">\n",
       "      <th></th>\n",
       "      <th>dateRep</th>\n",
       "      <th>day</th>\n",
       "      <th>month</th>\n",
       "      <th>year</th>\n",
       "      <th>cases</th>\n",
       "      <th>deaths</th>\n",
       "      <th>countriesAndTerritories</th>\n",
       "      <th>geoId</th>\n",
       "      <th>countryterritoryCode</th>\n",
       "      <th>popData2019</th>\n",
       "      <th>continentExp</th>\n",
       "      <th>Cumulative_number_for_14_days_of_COVID-19_cases_per_100000</th>\n",
       "    </tr>\n",
       "  </thead>\n",
       "  <tbody>\n",
       "    <tr>\n",
       "      <th>0</th>\n",
       "      <td>2020-12-14</td>\n",
       "      <td>14</td>\n",
       "      <td>12</td>\n",
       "      <td>2020</td>\n",
       "      <td>746</td>\n",
       "      <td>6</td>\n",
       "      <td>Afghanistan</td>\n",
       "      <td>AF</td>\n",
       "      <td>AFG</td>\n",
       "      <td>38041757.0</td>\n",
       "      <td>Asia</td>\n",
       "      <td>9.013779</td>\n",
       "    </tr>\n",
       "    <tr>\n",
       "      <th>1</th>\n",
       "      <td>2020-12-13</td>\n",
       "      <td>13</td>\n",
       "      <td>12</td>\n",
       "      <td>2020</td>\n",
       "      <td>298</td>\n",
       "      <td>9</td>\n",
       "      <td>Afghanistan</td>\n",
       "      <td>AF</td>\n",
       "      <td>AFG</td>\n",
       "      <td>38041757.0</td>\n",
       "      <td>Asia</td>\n",
       "      <td>7.052776</td>\n",
       "    </tr>\n",
       "    <tr>\n",
       "      <th>2</th>\n",
       "      <td>2020-12-12</td>\n",
       "      <td>12</td>\n",
       "      <td>12</td>\n",
       "      <td>2020</td>\n",
       "      <td>113</td>\n",
       "      <td>11</td>\n",
       "      <td>Afghanistan</td>\n",
       "      <td>AF</td>\n",
       "      <td>AFG</td>\n",
       "      <td>38041757.0</td>\n",
       "      <td>Asia</td>\n",
       "      <td>6.868768</td>\n",
       "    </tr>\n",
       "    <tr>\n",
       "      <th>3</th>\n",
       "      <td>2020-12-11</td>\n",
       "      <td>11</td>\n",
       "      <td>12</td>\n",
       "      <td>2020</td>\n",
       "      <td>63</td>\n",
       "      <td>10</td>\n",
       "      <td>Afghanistan</td>\n",
       "      <td>AF</td>\n",
       "      <td>AFG</td>\n",
       "      <td>38041757.0</td>\n",
       "      <td>Asia</td>\n",
       "      <td>7.134266</td>\n",
       "    </tr>\n",
       "    <tr>\n",
       "      <th>4</th>\n",
       "      <td>2020-12-10</td>\n",
       "      <td>10</td>\n",
       "      <td>12</td>\n",
       "      <td>2020</td>\n",
       "      <td>202</td>\n",
       "      <td>16</td>\n",
       "      <td>Afghanistan</td>\n",
       "      <td>AF</td>\n",
       "      <td>AFG</td>\n",
       "      <td>38041757.0</td>\n",
       "      <td>Asia</td>\n",
       "      <td>6.968658</td>\n",
       "    </tr>\n",
       "    <tr>\n",
       "      <th>5</th>\n",
       "      <td>2020-12-09</td>\n",
       "      <td>9</td>\n",
       "      <td>12</td>\n",
       "      <td>2020</td>\n",
       "      <td>135</td>\n",
       "      <td>13</td>\n",
       "      <td>Afghanistan</td>\n",
       "      <td>AF</td>\n",
       "      <td>AFG</td>\n",
       "      <td>38041757.0</td>\n",
       "      <td>Asia</td>\n",
       "      <td>6.963401</td>\n",
       "    </tr>\n",
       "    <tr>\n",
       "      <th>6</th>\n",
       "      <td>2020-12-08</td>\n",
       "      <td>8</td>\n",
       "      <td>12</td>\n",
       "      <td>2020</td>\n",
       "      <td>200</td>\n",
       "      <td>6</td>\n",
       "      <td>Afghanistan</td>\n",
       "      <td>AF</td>\n",
       "      <td>AFG</td>\n",
       "      <td>38041757.0</td>\n",
       "      <td>Asia</td>\n",
       "      <td>7.094835</td>\n",
       "    </tr>\n",
       "    <tr>\n",
       "      <th>7</th>\n",
       "      <td>2020-12-07</td>\n",
       "      <td>7</td>\n",
       "      <td>12</td>\n",
       "      <td>2020</td>\n",
       "      <td>210</td>\n",
       "      <td>26</td>\n",
       "      <td>Afghanistan</td>\n",
       "      <td>AF</td>\n",
       "      <td>AFG</td>\n",
       "      <td>38041757.0</td>\n",
       "      <td>Asia</td>\n",
       "      <td>7.215755</td>\n",
       "    </tr>\n",
       "    <tr>\n",
       "      <th>8</th>\n",
       "      <td>2020-12-06</td>\n",
       "      <td>6</td>\n",
       "      <td>12</td>\n",
       "      <td>2020</td>\n",
       "      <td>234</td>\n",
       "      <td>10</td>\n",
       "      <td>Afghanistan</td>\n",
       "      <td>AF</td>\n",
       "      <td>AFG</td>\n",
       "      <td>38041757.0</td>\n",
       "      <td>Asia</td>\n",
       "      <td>7.326160</td>\n",
       "    </tr>\n",
       "    <tr>\n",
       "      <th>9</th>\n",
       "      <td>2020-12-05</td>\n",
       "      <td>5</td>\n",
       "      <td>12</td>\n",
       "      <td>2020</td>\n",
       "      <td>235</td>\n",
       "      <td>18</td>\n",
       "      <td>Afghanistan</td>\n",
       "      <td>AF</td>\n",
       "      <td>AFG</td>\n",
       "      <td>38041757.0</td>\n",
       "      <td>Asia</td>\n",
       "      <td>7.115865</td>\n",
       "    </tr>\n",
       "  </tbody>\n",
       "</table>\n",
       "</div>"
      ],
      "text/plain": [
       "     dateRep  day  month  year  cases  deaths countriesAndTerritories geoId  \\\n",
       "0 2020-12-14   14     12  2020    746       6             Afghanistan    AF   \n",
       "1 2020-12-13   13     12  2020    298       9             Afghanistan    AF   \n",
       "2 2020-12-12   12     12  2020    113      11             Afghanistan    AF   \n",
       "3 2020-12-11   11     12  2020     63      10             Afghanistan    AF   \n",
       "4 2020-12-10   10     12  2020    202      16             Afghanistan    AF   \n",
       "5 2020-12-09    9     12  2020    135      13             Afghanistan    AF   \n",
       "6 2020-12-08    8     12  2020    200       6             Afghanistan    AF   \n",
       "7 2020-12-07    7     12  2020    210      26             Afghanistan    AF   \n",
       "8 2020-12-06    6     12  2020    234      10             Afghanistan    AF   \n",
       "9 2020-12-05    5     12  2020    235      18             Afghanistan    AF   \n",
       "\n",
       "  countryterritoryCode  popData2019 continentExp  \\\n",
       "0                  AFG   38041757.0         Asia   \n",
       "1                  AFG   38041757.0         Asia   \n",
       "2                  AFG   38041757.0         Asia   \n",
       "3                  AFG   38041757.0         Asia   \n",
       "4                  AFG   38041757.0         Asia   \n",
       "5                  AFG   38041757.0         Asia   \n",
       "6                  AFG   38041757.0         Asia   \n",
       "7                  AFG   38041757.0         Asia   \n",
       "8                  AFG   38041757.0         Asia   \n",
       "9                  AFG   38041757.0         Asia   \n",
       "\n",
       "   Cumulative_number_for_14_days_of_COVID-19_cases_per_100000  \n",
       "0                                           9.013779           \n",
       "1                                           7.052776           \n",
       "2                                           6.868768           \n",
       "3                                           7.134266           \n",
       "4                                           6.968658           \n",
       "5                                           6.963401           \n",
       "6                                           7.094835           \n",
       "7                                           7.215755           \n",
       "8                                           7.326160           \n",
       "9                                           7.115865           "
      ]
     },
     "execution_count": 10,
     "metadata": {},
     "output_type": "execute_result"
    }
   ],
   "source": [
    "df = pandas.read_excel('s3://ia241boag/COVID-19-geographic-disbtribution-worldwide-2020-12-14.xlsx')\n",
    "df[:10]"
   ]
  },
  {
   "cell_type": "markdown",
   "id": "fa2176c1",
   "metadata": {},
   "source": [
    "Trend of the Number of Cases"
   ]
  },
  {
   "cell_type": "code",
   "execution_count": 13,
   "id": "a34dea13",
   "metadata": {},
   "outputs": [],
   "source": [
    "sum_cases_per_day=df.groupby('dateRep').sum()['cases']"
   ]
  },
  {
   "cell_type": "code",
   "execution_count": 14,
   "id": "fe1e5c57",
   "metadata": {},
   "outputs": [
    {
     "data": {
      "text/plain": [
       "<matplotlib.axes._subplots.AxesSubplot at 0x7f9ca03d1450>"
      ]
     },
     "execution_count": 14,
     "metadata": {},
     "output_type": "execute_result"
    },
    {
     "data": {
      "image/png": "[encoded data removed]",
      "text/plain": [
       "<Figure size 432x288 with 1 Axes>"
      ]
     },
     "metadata": {
      "needs_background": "light"
     },
     "output_type": "display_data"
    }
   ],
   "source": [
    "sum_cases_per_day.plot()"
   ]
  },
  {
   "cell_type": "markdown",
   "id": "9a007056",
   "metadata": {},
   "source": [
    "The top 10 Countries with the Highest Deaths"
   ]
  },
  {
   "cell_type": "code",
   "execution_count": 17,
   "id": "0d289c83",
   "metadata": {},
   "outputs": [],
   "source": [
    "sum_death_per_country=df.groupby('countriesAndTerritories').sum()['deaths']"
   ]
  },
  {
   "cell_type": "code",
   "execution_count": 19,
   "id": "a6a43e19",
   "metadata": {},
   "outputs": [
    {
     "data": {
      "text/plain": [
       "<matplotlib.axes._subplots.AxesSubplot at 0x7f9ca03a0b10>"
      ]
     },
     "execution_count": 19,
     "metadata": {},
     "output_type": "execute_result"
    },
    {
     "data": {
      "image/png": "[encoded data removed]",
      "text/plain": [
       "<Figure size 432x288 with 1 Axes>"
      ]
     },
     "metadata": {
      "needs_background": "light"
     },
     "output_type": "display_data"
    }
   ],
   "source": [
    "sum_death_per_country.nlargest(10).plot.bar()"
   ]
  },
  {
   "cell_type": "markdown",
   "id": "4655951d",
   "metadata": {},
   "source": [
    "List of All Countries"
   ]
  },
  {
   "cell_type": "code",
   "execution_count": 20,
   "id": "31f161b2",
   "metadata": {},
   "outputs": [
    {
     "data": {
      "text/plain": [
       "array([u'Afghanistan', u'Albania', u'Algeria', u'Andorra', u'Angola',\n",
       "       u'Anguilla', u'Antigua_and_Barbuda', u'Argentina', u'Armenia',\n",
       "       u'Aruba', u'Australia', u'Austria', u'Azerbaijan', u'Bahamas',\n",
       "       u'Bahrain', u'Bangladesh', u'Barbados', u'Belarus', u'Belgium',\n",
       "       u'Belize', u'Benin', u'Bermuda', u'Bhutan', u'Bolivia',\n",
       "       u'Bonaire, Saint Eustatius and Saba', u'Bosnia_and_Herzegovina',\n",
       "       u'Botswana', u'Brazil', u'British_Virgin_Islands',\n",
       "       u'Brunei_Darussalam', u'Bulgaria', u'Burkina_Faso', u'Burundi',\n",
       "       u'Cambodia', u'Cameroon', u'Canada', u'Cape_Verde',\n",
       "       u'Cases_on_an_international_conveyance_Japan', u'Cayman_Islands',\n",
       "       u'Central_African_Republic', u'Chad', u'Chile', u'China',\n",
       "       u'Colombia', u'Comoros', u'Congo', u'Costa_Rica', u'Cote_dIvoire',\n",
       "       u'Croatia', u'Cuba', u'Cura\\xc3\\xa7ao', u'Cyprus', u'Czechia',\n",
       "       u'Democratic_Republic_of_the_Congo', u'Denmark', u'Djibouti',\n",
       "       u'Dominica', u'Dominican_Republic', u'Ecuador', u'Egypt',\n",
       "       u'El_Salvador', u'Equatorial_Guinea', u'Eritrea', u'Estonia',\n",
       "       u'Eswatini', u'Ethiopia', u'Falkland_Islands_(Malvinas)',\n",
       "       u'Faroe_Islands', u'Fiji', u'Finland', u'France',\n",
       "       u'French_Polynesia', u'Gabon', u'Gambia', u'Georgia', u'Germany',\n",
       "       u'Ghana', u'Gibraltar', u'Greece', u'Greenland', u'Grenada',\n",
       "       u'Guam', u'Guatemala', u'Guernsey', u'Guinea', u'Guinea_Bissau',\n",
       "       u'Guyana', u'Haiti', u'Holy_See', u'Honduras', u'Hungary',\n",
       "       u'Iceland', u'India', u'Indonesia', u'Iran', u'Iraq', u'Ireland',\n",
       "       u'Isle_of_Man', u'Israel', u'Italy', u'Jamaica', u'Japan',\n",
       "       u'Jersey', u'Jordan', u'Kazakhstan', u'Kenya', u'Kosovo',\n",
       "       u'Kuwait', u'Kyrgyzstan', u'Laos', u'Latvia', u'Lebanon',\n",
       "       u'Lesotho', u'Liberia', u'Libya', u'Liechtenstein', u'Lithuania',\n",
       "       u'Luxembourg', u'Madagascar', u'Malawi', u'Malaysia', u'Maldives',\n",
       "       u'Mali', u'Malta', u'Marshall_Islands', u'Mauritania',\n",
       "       u'Mauritius', u'Mexico', u'Moldova', u'Monaco', u'Mongolia',\n",
       "       u'Montenegro', u'Montserrat', u'Morocco', u'Mozambique',\n",
       "       u'Myanmar', u'Namibia', u'Nepal', u'Netherlands', u'New_Caledonia',\n",
       "       u'New_Zealand', u'Nicaragua', u'Niger', u'Nigeria',\n",
       "       u'North_Macedonia', u'Northern_Mariana_Islands', u'Norway',\n",
       "       u'Oman', u'Pakistan', u'Palestine', u'Panama', u'Papua_New_Guinea',\n",
       "       u'Paraguay', u'Peru', u'Philippines', u'Poland', u'Portugal',\n",
       "       u'Puerto_Rico', u'Qatar', u'Romania', u'Russia', u'Rwanda',\n",
       "       u'Saint_Kitts_and_Nevis', u'Saint_Lucia',\n",
       "       u'Saint_Vincent_and_the_Grenadines', u'San_Marino',\n",
       "       u'Sao_Tome_and_Principe', u'Saudi_Arabia', u'Senegal', u'Serbia',\n",
       "       u'Seychelles', u'Sierra_Leone', u'Singapore', u'Sint_Maarten',\n",
       "       u'Slovakia', u'Slovenia', u'Solomon_Islands', u'Somalia',\n",
       "       u'South_Africa', u'South_Korea', u'South_Sudan', u'Spain',\n",
       "       u'Sri_Lanka', u'Sudan', u'Suriname', u'Sweden', u'Switzerland',\n",
       "       u'Syria', u'Taiwan', u'Tajikistan', u'Thailand', u'Timor_Leste',\n",
       "       u'Togo', u'Trinidad_and_Tobago', u'Tunisia', u'Turkey',\n",
       "       u'Turks_and_Caicos_islands', u'Uganda', u'Ukraine',\n",
       "       u'United_Arab_Emirates', u'United_Kingdom',\n",
       "       u'United_Republic_of_Tanzania', u'United_States_of_America',\n",
       "       u'United_States_Virgin_Islands', u'Uruguay', u'Uzbekistan',\n",
       "       u'Vanuatu', u'Venezuela', u'Vietnam', u'Wallis_and_Futuna',\n",
       "       u'Western_Sahara', u'Yemen', u'Zambia', u'Zimbabwe'], dtype=object)"
      ]
     },
     "execution_count": 20,
     "metadata": {},
     "output_type": "execute_result"
    }
   ],
   "source": [
    "pandas.unique(df['countriesAndTerritories'])"
   ]
  },
  {
   "cell_type": "markdown",
   "id": "21cb31e4",
   "metadata": {},
   "source": [
    "The USA Data"
   ]
  },
  {
   "cell_type": "code",
   "execution_count": 21,
   "id": "aa95fc8e",
   "metadata": {
    "collapsed": true,
    "jupyter": {
     "outputs_hidden": true
    }
   },
   "outputs": [
    {
     "data": {
      "text/html": [
       "<div>\n",
       "<style scoped>\n",
       "    .dataframe tbody tr th:only-of-type {\n",
       "        vertical-align: middle;\n",
       "    }\n",
       "\n",
       "    .dataframe tbody tr th {\n",
       "        vertical-align: top;\n",
       "    }\n",
       "\n",
       "    .dataframe thead th {\n",
       "        text-align: right;\n",
       "    }\n",
       "</style>\n",
       "<table border=\"1\" class=\"dataframe\">\n",
       "  <thead>\n",
       "    <tr style=\"text-align: right;\">\n",
       "      <th></th>\n",
       "      <th>dateRep</th>\n",
       "      <th>day</th>\n",
       "      <th>month</th>\n",
       "      <th>year</th>\n",
       "      <th>cases</th>\n",
       "      <th>deaths</th>\n",
       "      <th>countriesAndTerritories</th>\n",
       "      <th>geoId</th>\n",
       "      <th>countryterritoryCode</th>\n",
       "      <th>popData2019</th>\n",
       "      <th>continentExp</th>\n",
       "      <th>Cumulative_number_for_14_days_of_COVID-19_cases_per_100000</th>\n",
       "    </tr>\n",
       "  </thead>\n",
       "  <tbody>\n",
       "    <tr>\n",
       "      <th>59001</th>\n",
       "      <td>2020-12-14</td>\n",
       "      <td>14</td>\n",
       "      <td>12</td>\n",
       "      <td>2020</td>\n",
       "      <td>189723</td>\n",
       "      <td>1340</td>\n",
       "      <td>United_States_of_America</td>\n",
       "      <td>US</td>\n",
       "      <td>USA</td>\n",
       "      <td>329064917.0</td>\n",
       "      <td>America</td>\n",
       "      <td>873.211592</td>\n",
       "    </tr>\n",
       "    <tr>\n",
       "      <th>59002</th>\n",
       "      <td>2020-12-13</td>\n",
       "      <td>13</td>\n",
       "      <td>12</td>\n",
       "      <td>2020</td>\n",
       "      <td>216017</td>\n",
       "      <td>2315</td>\n",
       "      <td>United_States_of_America</td>\n",
       "      <td>US</td>\n",
       "      <td>USA</td>\n",
       "      <td>329064917.0</td>\n",
       "      <td>America</td>\n",
       "      <td>857.089241</td>\n",
       "    </tr>\n",
       "    <tr>\n",
       "      <th>59003</th>\n",
       "      <td>2020-12-12</td>\n",
       "      <td>12</td>\n",
       "      <td>12</td>\n",
       "      <td>2020</td>\n",
       "      <td>234633</td>\n",
       "      <td>3343</td>\n",
       "      <td>United_States_of_America</td>\n",
       "      <td>US</td>\n",
       "      <td>USA</td>\n",
       "      <td>329064917.0</td>\n",
       "      <td>America</td>\n",
       "      <td>838.514183</td>\n",
       "    </tr>\n",
       "    <tr>\n",
       "      <th>59004</th>\n",
       "      <td>2020-12-11</td>\n",
       "      <td>11</td>\n",
       "      <td>12</td>\n",
       "      <td>2020</td>\n",
       "      <td>224680</td>\n",
       "      <td>2748</td>\n",
       "      <td>United_States_of_America</td>\n",
       "      <td>US</td>\n",
       "      <td>USA</td>\n",
       "      <td>329064917.0</td>\n",
       "      <td>America</td>\n",
       "      <td>830.394205</td>\n",
       "    </tr>\n",
       "    <tr>\n",
       "      <th>59005</th>\n",
       "      <td>2020-12-10</td>\n",
       "      <td>10</td>\n",
       "      <td>12</td>\n",
       "      <td>2020</td>\n",
       "      <td>220025</td>\n",
       "      <td>3124</td>\n",
       "      <td>United_States_of_America</td>\n",
       "      <td>US</td>\n",
       "      <td>USA</td>\n",
       "      <td>329064917.0</td>\n",
       "      <td>America</td>\n",
       "      <td>794.356027</td>\n",
       "    </tr>\n",
       "    <tr>\n",
       "      <th>59006</th>\n",
       "      <td>2020-12-09</td>\n",
       "      <td>9</td>\n",
       "      <td>12</td>\n",
       "      <td>2020</td>\n",
       "      <td>217344</td>\n",
       "      <td>2564</td>\n",
       "      <td>United_States_of_America</td>\n",
       "      <td>US</td>\n",
       "      <td>USA</td>\n",
       "      <td>329064917.0</td>\n",
       "      <td>America</td>\n",
       "      <td>784.195114</td>\n",
       "    </tr>\n",
       "    <tr>\n",
       "      <th>59007</th>\n",
       "      <td>2020-12-08</td>\n",
       "      <td>8</td>\n",
       "      <td>12</td>\n",
       "      <td>2020</td>\n",
       "      <td>197334</td>\n",
       "      <td>1433</td>\n",
       "      <td>United_States_of_America</td>\n",
       "      <td>US</td>\n",
       "      <td>USA</td>\n",
       "      <td>329064917.0</td>\n",
       "      <td>America</td>\n",
       "      <td>769.896719</td>\n",
       "    </tr>\n",
       "    <tr>\n",
       "      <th>59008</th>\n",
       "      <td>2020-12-07</td>\n",
       "      <td>7</td>\n",
       "      <td>12</td>\n",
       "      <td>2020</td>\n",
       "      <td>173432</td>\n",
       "      <td>1111</td>\n",
       "      <td>United_States_of_America</td>\n",
       "      <td>US</td>\n",
       "      <td>USA</td>\n",
       "      <td>329064917.0</td>\n",
       "      <td>America</td>\n",
       "      <td>762.794473</td>\n",
       "    </tr>\n",
       "    <tr>\n",
       "      <th>59009</th>\n",
       "      <td>2020-12-06</td>\n",
       "      <td>6</td>\n",
       "      <td>12</td>\n",
       "      <td>2020</td>\n",
       "      <td>211933</td>\n",
       "      <td>2203</td>\n",
       "      <td>United_States_of_America</td>\n",
       "      <td>US</td>\n",
       "      <td>USA</td>\n",
       "      <td>329064917.0</td>\n",
       "      <td>America</td>\n",
       "      <td>757.944062</td>\n",
       "    </tr>\n",
       "    <tr>\n",
       "      <th>59010</th>\n",
       "      <td>2020-12-05</td>\n",
       "      <td>5</td>\n",
       "      <td>12</td>\n",
       "      <td>2020</td>\n",
       "      <td>231930</td>\n",
       "      <td>2680</td>\n",
       "      <td>United_States_of_America</td>\n",
       "      <td>US</td>\n",
       "      <td>USA</td>\n",
       "      <td>329064917.0</td>\n",
       "      <td>America</td>\n",
       "      <td>746.870564</td>\n",
       "    </tr>\n",
       "  </tbody>\n",
       "</table>\n",
       "</div>"
      ],
      "text/plain": [
       "         dateRep  day  month  year   cases  deaths   countriesAndTerritories  \\\n",
       "59001 2020-12-14   14     12  2020  189723    1340  United_States_of_America   \n",
       "59002 2020-12-13   13     12  2020  216017    2315  United_States_of_America   \n",
       "59003 2020-12-12   12     12  2020  234633    3343  United_States_of_America   \n",
       "59004 2020-12-11   11     12  2020  224680    2748  United_States_of_America   \n",
       "59005 2020-12-10   10     12  2020  220025    3124  United_States_of_America   \n",
       "59006 2020-12-09    9     12  2020  217344    2564  United_States_of_America   \n",
       "59007 2020-12-08    8     12  2020  197334    1433  United_States_of_America   \n",
       "59008 2020-12-07    7     12  2020  173432    1111  United_States_of_America   \n",
       "59009 2020-12-06    6     12  2020  211933    2203  United_States_of_America   \n",
       "59010 2020-12-05    5     12  2020  231930    2680  United_States_of_America   \n",
       "\n",
       "      geoId countryterritoryCode  popData2019 continentExp  \\\n",
       "59001    US                  USA  329064917.0      America   \n",
       "59002    US                  USA  329064917.0      America   \n",
       "59003    US                  USA  329064917.0      America   \n",
       "59004    US                  USA  329064917.0      America   \n",
       "59005    US                  USA  329064917.0      America   \n",
       "59006    US                  USA  329064917.0      America   \n",
       "59007    US                  USA  329064917.0      America   \n",
       "59008    US                  USA  329064917.0      America   \n",
       "59009    US                  USA  329064917.0      America   \n",
       "59010    US                  USA  329064917.0      America   \n",
       "\n",
       "       Cumulative_number_for_14_days_of_COVID-19_cases_per_100000  \n",
       "59001                                         873.211592           \n",
       "59002                                         857.089241           \n",
       "59003                                         838.514183           \n",
       "59004                                         830.394205           \n",
       "59005                                         794.356027           \n",
       "59006                                         784.195114           \n",
       "59007                                         769.896719           \n",
       "59008                                         762.794473           \n",
       "59009                                         757.944062           \n",
       "59010                                         746.870564           "
      ]
     },
     "execution_count": 21,
     "metadata": {},
     "output_type": "execute_result"
    }
   ],
   "source": [
    "usa_data = df.loc[ df['countriesAndTerritories']=='United_States_of_America' ]\n",
    "\n",
    "usa_data[:10]"
   ]
  },
  {
   "cell_type": "markdown",
   "id": "e86ddc0e",
   "metadata": {},
   "source": [
    "How the # death is related to the case # case in the USA"
   ]
  },
  {
   "cell_type": "code",
   "execution_count": 23,
   "id": "d2ead92e",
   "metadata": {},
   "outputs": [
    {
     "data": {
      "text/plain": [
       "<matplotlib.axes._subplots.AxesSubplot at 0x7f9ca04d2dd0>"
      ]
     },
     "execution_count": 23,
     "metadata": {},
     "output_type": "execute_result"
    },
    {
     "data": {
      "image/png": "[encoded data removed]",
      "text/plain": [
       "<Figure size 432x288 with 2 Axes>"
      ]
     },
     "metadata": {
      "needs_background": "light"
     },
     "output_type": "display_data"
    }
   ],
   "source": [
    "usa_data.plot.scatter(x='cases',y='deaths',c='month')"
   ]
  },
  {
   "cell_type": "code",
   "execution_count": null,
   "id": "70526c04",
   "metadata": {},
   "outputs": [],
   "source": []
  }
 ],
 "metadata": {
  "kernelspec": {
   "display_name": "conda_python2",
   "language": "python",
   "name": "conda_python2"
  },
  "language_info": {
   "codemirror_mode": {
    "name": "ipython",
    "version": 2
   },
   "file_extension": ".py",
   "mimetype": "text/x-python",
   "name": "python",
   "nbconvert_exporter": "python",
   "pygments_lexer": "ipython2",
   "version": "2.7.16"
  }
 },
 "nbformat": 4,
 "nbformat_minor": 5
}
